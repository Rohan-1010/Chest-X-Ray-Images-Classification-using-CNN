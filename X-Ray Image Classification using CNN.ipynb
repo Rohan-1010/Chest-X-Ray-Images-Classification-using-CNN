{
 "cells": [
  {
   "cell_type": "code",
   "execution_count": 1,
   "metadata": {},
   "outputs": [],
   "source": [
    "from IPython.core.interactiveshell import InteractiveShell\n",
    "InteractiveShell.ast_node_interactivity = \"all\""
   ]
  },
  {
   "cell_type": "code",
   "execution_count": 2,
   "metadata": {},
   "outputs": [
    {
     "name": "stderr",
     "output_type": "stream",
     "text": [
      "Using TensorFlow backend.\n"
     ]
    }
   ],
   "source": [
    "# Importing all the libraries\n",
    "\n",
    "from keras.models import Sequential    # Intializing the Neural Net\n",
    "from keras.layers import Convolution2D    # Used in the convolution step where we will add convolutional layers\n",
    "from keras.layers import MaxPooling2D    # Used for pooling layers\n",
    "from keras.layers import Flatten    # Used for flattening in which we will convert all the pooled feature maps into large feature vector, which will then become the input of the fully connected layers\n",
    "from keras.layers import Dense \n",
    "from keras.layers import Dropout \n",
    "from keras.optimizers import Adam\n",
    "from keras.optimizers import RMSprop\n",
    "from keras.preprocessing.image import ImageDataGenerator    # For image augmentation \n",
    "import matplotlib.pyplot as plt\n",
    "import numpy as np\n",
    "from keras.layers.normalization import BatchNormalization\n",
    "import statistics as stat\n",
    "import cv2\n",
    "import pandas as pd\n",
    "from pathlib import Path\n",
    "from keras.utils import to_categorical\n",
    "from sklearn.metrics import confusion_matrix"
   ]
  },
  {
   "cell_type": "code",
   "execution_count": 3,
   "metadata": {},
   "outputs": [
    {
     "name": "stdout",
     "output_type": "stream",
     "text": [
      "WARNING:tensorflow:From /Users/rohan10/Desktop/anaconda3/lib/python3.7/site-packages/tensorflow/python/framework/op_def_library.py:263: colocate_with (from tensorflow.python.framework.ops) is deprecated and will be removed in a future version.\n",
      "Instructions for updating:\n",
      "Colocations handled automatically by placer.\n"
     ]
    }
   ],
   "source": [
    "# Declaring some variables\n",
    "\n",
    "image_size = tuple((224, 224))\n",
    "rotation_range = 25\n",
    "width_shift_range = 0.1\n",
    "height_shift_range = 0.1\n",
    "shear_range = 0.2\n",
    "zoom_range = 0.2\n",
    "opt = RMSprop(lr=0.00005)\n",
    "epochs = 25"
   ]
  },
  {
   "cell_type": "code",
   "execution_count": 4,
   "metadata": {},
   "outputs": [],
   "source": [
    "#### Converting Images to Array ####\n",
    "\n",
    "# Test Set\n",
    "test_dir = Path('/Users/rohan10/Desktop/Datasets /chest_xray/test')\n",
    "\n",
    "test_normal_dir = test_dir / 'NORMAL'\n",
    "\n",
    "test_pneumonia_dir = test_dir / 'PNEUMONIA'\n",
    "\n",
    "# Train Set\n",
    "train_dir = Path('/Users/rohan10/Desktop/Datasets /chest_xray/train')\n",
    "\n",
    "train_normal_dir = train_dir / 'NORMAL'\n",
    "\n",
    "train_pneumonia_dir = train_dir / 'PNEUMONIA'\n",
    "\n",
    "# Validation Set\n",
    "valid_dir = Path('/Users/rohan10/Desktop/Datasets /chest_xray/val')\n",
    "\n",
    "valid_normal_dir = valid_dir / 'NORMAL'\n",
    "\n",
    "valid_pneumonia_dir = valid_dir / 'PNEUMONIA'"
   ]
  },
  {
   "cell_type": "code",
   "execution_count": 5,
   "metadata": {},
   "outputs": [],
   "source": [
    "# Fetching all the images\n",
    "\n",
    "test_cases_normal = test_normal_dir.glob('*.jpeg')\n",
    "test_cases_pneumonia = test_pneumonia_dir.glob('*.jpeg')\n",
    "\n",
    "train_cases_normal = train_normal_dir.glob('*.jpeg')\n",
    "train_cases_pneumonia = train_pneumonia_dir.glob('*.jpeg')\n",
    "\n",
    "valid_cases_normal = valid_normal_dir.glob('*.jpeg')\n",
    "valid_cases_pneumonia = valid_pneumonia_dir.glob('*.jpeg')"
   ]
  },
  {
   "cell_type": "code",
   "execution_count": 6,
   "metadata": {},
   "outputs": [],
   "source": [
    "#### Test Cases ####\n",
    "\n",
    "test_cases_array = []\n",
    "test_cases_label = []\n",
    "\n",
    "# Test Normal Cases: \n",
    "for img in test_cases_normal:\n",
    "    imagee = cv2.imread(str(img))\n",
    "    imagee = cv2.resize(imagee, image_size)\n",
    "    if imagee.shape[2] == 1:\n",
    "        imagee = np.dstack([imagee, imagee, imagee])\n",
    "    imagee = cv2.cvtColor(imagee, cv2.COLOR_BGR2RGB)\n",
    "    imagee = imagee.astype(np.float32)/255.             # Normalizing\n",
    "    lb = to_categorical(0, num_classes = 2)\n",
    "    test_cases_array.append(imagee)\n",
    "    test_cases_label.append(lb)\n",
    "\n",
    "# Test Pneumonia Cases:\n",
    "for img in test_cases_pneumonia:\n",
    "    imagee = cv2.imread(str(img))\n",
    "    imagee = cv2.resize(imagee, image_size)\n",
    "    if imagee.shape[2] == 1:\n",
    "        imagee = np.dstack([imagee, imagee, imagee])\n",
    "    imagee = cv2.cvtColor(imagee, cv2.COLOR_BGR2RGB)\n",
    "    imagee = imagee.astype(np.float32)/255.             # Normalizing\n",
    "    lb = to_categorical(1, num_classes = 2)\n",
    "    test_cases_array.append(imagee)\n",
    "    test_cases_label.append(lb)\n",
    "\n",
    "test_cases_array = np.array(test_cases_array)\n",
    "test_cases_label = np.array(test_cases_label)"
   ]
  },
  {
   "cell_type": "code",
   "execution_count": 7,
   "metadata": {},
   "outputs": [],
   "source": [
    "#### Train Cases ####\n",
    "\n",
    "train_cases_array = []\n",
    "train_cases_label = []\n",
    "\n",
    "# Train Normal Cases: \n",
    "for img in train_cases_normal:\n",
    "    imagee = cv2.imread(str(img))\n",
    "    imagee = cv2.resize(imagee, image_size)\n",
    "    if imagee.shape[2] == 1:\n",
    "        imagee = np.dstack([imagee, imagee, imagee])\n",
    "    imagee = cv2.cvtColor(imagee, cv2.COLOR_BGR2RGB)\n",
    "    imagee = imagee.astype(np.float32)/255.             # Normalizing\n",
    "    lb = to_categorical(0, num_classes = 2)\n",
    "    train_cases_array.append(imagee)\n",
    "    train_cases_label.append(lb)\n",
    "\n",
    "# Train Pneumonia Cases:\n",
    "for img in train_cases_pneumonia:\n",
    "    imagee = cv2.imread(str(img))\n",
    "    imagee = cv2.resize(imagee, image_size)\n",
    "    if imagee.shape[2] == 1:\n",
    "        imagee = np.dstack([imagee, imagee, imagee])\n",
    "    imagee = cv2.cvtColor(imagee, cv2.COLOR_BGR2RGB)\n",
    "    imagee = imagee.astype(np.float32)/255.             # Normalizing\n",
    "    lb = to_categorical(1, num_classes = 2)\n",
    "    train_cases_array.append(imagee)\n",
    "    train_cases_label.append(lb)\n",
    "\n",
    "train_cases_array = np.array(train_cases_array)\n",
    "train_cases_label = np.array(train_cases_label)"
   ]
  },
  {
   "cell_type": "code",
   "execution_count": 8,
   "metadata": {},
   "outputs": [],
   "source": [
    "#### Valid Cases ####\n",
    " \n",
    "valid_cases_array = []\n",
    "valid_cases_label = []\n",
    "\n",
    "# Valid Normal Cases:\n",
    "for img in valid_cases_normal:\n",
    "    imagee = cv2.imread(str(img))\n",
    "    imagee = cv2.resize(imagee, image_size)\n",
    "    if imagee.shape[2] == 1:\n",
    "        imagee = np.dstack([imagee, imagee, imagee])\n",
    "    imagee = cv2.cvtColor(imagee, cv2.COLOR_BGR2RGB)\n",
    "    imagee = imagee.astype(np.float32)/255.             # Normalizing\n",
    "    lb = to_categorical(0, num_classes = 2)\n",
    "    valid_cases_array.append(imagee)\n",
    "    valid_cases_label.append(lb)\n",
    "\n",
    "# Valid Pneumonia Cases:\n",
    "for img in valid_cases_pneumonia:\n",
    "    imagee = cv2.imread(str(img))\n",
    "    imagee = cv2.resize(imagee, image_size)\n",
    "    if imagee.shape[2] == 1:\n",
    "        imagee = np.dstack([imagee, imagee, imagee])\n",
    "    imagee = cv2.cvtColor(imagee, cv2.COLOR_BGR2RGB)\n",
    "    imagee = imagee.astype(np.float32)/255.             # Normalizing\n",
    "    lb = to_categorical(1, num_classes = 2)\n",
    "    valid_cases_array.append(imagee)\n",
    "    valid_cases_label.append(lb)\n",
    "\n",
    "valid_cases_array = np.array(valid_cases_array)  \n",
    "valid_cases_label = np.array(valid_cases_label)"
   ]
  },
  {
   "cell_type": "code",
   "execution_count": 9,
   "metadata": {},
   "outputs": [],
   "source": [
    "# Image Data Generator\n",
    "aug = ImageDataGenerator(rotation_range = rotation_range,\n",
    "                         width_shift_range = width_shift_range,\n",
    "                         height_shift_range = height_shift_range,\n",
    "                         shear_range = shear_range,\n",
    "                         zoom_range = zoom_range,\n",
    "                         horizontal_flip = True,\n",
    "                         fill_mode = 'nearest')"
   ]
  },
  {
   "cell_type": "code",
   "execution_count": 10,
   "metadata": {},
   "outputs": [
    {
     "name": "stderr",
     "output_type": "stream",
     "text": [
      "/Users/rohan10/Desktop/anaconda3/lib/python3.7/site-packages/ipykernel_launcher.py:13: UserWarning: Update your `Conv2D` call to the Keras 2 API: `Conv2D(64, (3, 3), input_shape=(224, 224,..., activation=\"relu\")`\n",
      "  del sys.path[0]\n"
     ]
    },
    {
     "name": "stdout",
     "output_type": "stream",
     "text": [
      "WARNING:tensorflow:From /Users/rohan10/Desktop/anaconda3/lib/python3.7/site-packages/keras/backend/tensorflow_backend.py:3445: calling dropout (from tensorflow.python.ops.nn_ops) with keep_prob is deprecated and will be removed in a future version.\n",
      "Instructions for updating:\n",
      "Please use `rate` instead of `keep_prob`. Rate should be set to `rate = 1 - keep_prob`.\n"
     ]
    },
    {
     "name": "stderr",
     "output_type": "stream",
     "text": [
      "/Users/rohan10/Desktop/anaconda3/lib/python3.7/site-packages/ipykernel_launcher.py:32: UserWarning: Update your `Conv2D` call to the Keras 2 API: `Conv2D(96, (3, 3), activation=\"relu\")`\n",
      "/Users/rohan10/Desktop/anaconda3/lib/python3.7/site-packages/ipykernel_launcher.py:39: UserWarning: Update your `Conv2D` call to the Keras 2 API: `Conv2D(128, (3, 3), activation=\"relu\")`\n",
      "/Users/rohan10/Desktop/anaconda3/lib/python3.7/site-packages/ipykernel_launcher.py:46: UserWarning: Update your `Conv2D` call to the Keras 2 API: `Conv2D(128, (3, 3), activation=\"relu\")`\n",
      "/Users/rohan10/Desktop/anaconda3/lib/python3.7/site-packages/ipykernel_launcher.py:59: UserWarning: Update your `Dense` call to the Keras 2 API: `Dense(activation=\"relu\", units=128)`\n",
      "/Users/rohan10/Desktop/anaconda3/lib/python3.7/site-packages/ipykernel_launcher.py:64: UserWarning: Update your `Dense` call to the Keras 2 API: `Dense(activation=\"relu\", units=128)`\n",
      "/Users/rohan10/Desktop/anaconda3/lib/python3.7/site-packages/ipykernel_launcher.py:69: UserWarning: Update your `Dense` call to the Keras 2 API: `Dense(activation=\"relu\", units=1024)`\n",
      "/Users/rohan10/Desktop/anaconda3/lib/python3.7/site-packages/ipykernel_launcher.py:74: UserWarning: Update your `Dense` call to the Keras 2 API: `Dense(activation=\"relu\", units=1024)`\n",
      "/Users/rohan10/Desktop/anaconda3/lib/python3.7/site-packages/ipykernel_launcher.py:79: UserWarning: Update your `Dense` call to the Keras 2 API: `Dense(activation=\"softmax\", units=2)`\n"
     ]
    }
   ],
   "source": [
    "## Initializing the Convolutional Neural Network (CNN) ##\n",
    "\n",
    "classifier = Sequential()\n",
    "\n",
    "# Step 1: Convolution \n",
    "# In this step, we will specify the number of feature detectors to use.\n",
    "# The number of feature maps we will obtain will be equal to the number of feature detectors we will use. \n",
    "\n",
    "#### Adding the 1st convolutional layer ####\n",
    "\n",
    "classifier.add(Convolution2D(64, 3, 3, \n",
    "                             input_shape = (224, 224, 3), \n",
    "                             activation = 'relu'))\n",
    "\n",
    "classifier.add(BatchNormalization(axis=-1))\n",
    "\n",
    "# Here:\n",
    "#      1. '64' is the number of feature detectors we will be using at the start. \n",
    "#      2. '3' is the number of rows and columns we will use in the feature detector. \n",
    "#      3. The 'input_shape' argument is the expected format of the input images. '224' is the number of pixels, and '3' is the input channel ('3' is used for colored images, and '1' is used for B&W images.)\n",
    "#      4. The 'relu' activation function is used for non-linearity. \n",
    "\n",
    "# Step 2: Max Pooling\n",
    "# The max pooling step is utilized to reduce the size of the feature maps. Reducing the size reduces the complexity and time execution. \n",
    "\n",
    "classifier.add(MaxPooling2D(pool_size = (2, 2)))\n",
    "classifier.add(Dropout(0.25))\n",
    "\n",
    "#### Adding the 2nd convolutional layer ####\n",
    "\n",
    "classifier.add(Convolution2D(96, 3, 3, \n",
    "                             activation = 'relu'))\n",
    "classifier.add(BatchNormalization(axis=-1))\n",
    "\n",
    "classifier.add(MaxPooling2D(pool_size = (2, 2)))\n",
    "classifier.add(Dropout(0.25))\n",
    "\n",
    "classifier.add(Convolution2D(128, 3, 3, \n",
    "                             activation = 'relu'))\n",
    "classifier.add(BatchNormalization(axis=-1))\n",
    "\n",
    "classifier.add(MaxPooling2D(pool_size = (2, 2)))\n",
    "classifier.add(Dropout(0.25))\n",
    "\n",
    "classifier.add(Convolution2D(128, 3, 3, \n",
    "                             activation = 'relu'))\n",
    "classifier.add(BatchNormalization(axis=-1))\n",
    "classifier.add(MaxPooling2D(pool_size = (2, 2)))\n",
    "classifier.add(Dropout(0.25))\n",
    "\n",
    "# Step 3: Flattening \n",
    "\n",
    "classifier.add(Flatten())\n",
    "\n",
    "# Intergrating the ANN\n",
    "# Adding the hidden layer:\n",
    "\n",
    "classifier.add(Dense(output_dim = 128, \n",
    "                     activation = 'relu'))\n",
    "classifier.add(BatchNormalization())\n",
    "classifier.add(Dropout(0.5))\n",
    "\n",
    "classifier.add(Dense(output_dim = 128, \n",
    "                     activation = 'relu'))\n",
    "classifier.add(BatchNormalization())\n",
    "classifier.add(Dropout(0.5))\n",
    "\n",
    "classifier.add(Dense(output_dim = 1024, \n",
    "                     activation = 'relu'))\n",
    "classifier.add(BatchNormalization())\n",
    "classifier.add(Dropout(0.5))\n",
    "\n",
    "classifier.add(Dense(output_dim = 1024, \n",
    "                     activation = 'relu'))\n",
    "classifier.add(BatchNormalization())\n",
    "classifier.add(Dropout(0.5))\n",
    "\n",
    "classifier.add(Dense(output_dim = 2, \n",
    "                     activation = 'softmax'))"
   ]
  },
  {
   "cell_type": "code",
   "execution_count": 11,
   "metadata": {},
   "outputs": [
    {
     "name": "stdout",
     "output_type": "stream",
     "text": [
      "_________________________________________________________________\n",
      "Layer (type)                 Output Shape              Param #   \n",
      "=================================================================\n",
      "conv2d_1 (Conv2D)            (None, 222, 222, 64)      1792      \n",
      "_________________________________________________________________\n",
      "batch_normalization_1 (Batch (None, 222, 222, 64)      256       \n",
      "_________________________________________________________________\n",
      "max_pooling2d_1 (MaxPooling2 (None, 111, 111, 64)      0         \n",
      "_________________________________________________________________\n",
      "dropout_1 (Dropout)          (None, 111, 111, 64)      0         \n",
      "_________________________________________________________________\n",
      "conv2d_2 (Conv2D)            (None, 109, 109, 96)      55392     \n",
      "_________________________________________________________________\n",
      "batch_normalization_2 (Batch (None, 109, 109, 96)      384       \n",
      "_________________________________________________________________\n",
      "max_pooling2d_2 (MaxPooling2 (None, 54, 54, 96)        0         \n",
      "_________________________________________________________________\n",
      "dropout_2 (Dropout)          (None, 54, 54, 96)        0         \n",
      "_________________________________________________________________\n",
      "conv2d_3 (Conv2D)            (None, 52, 52, 128)       110720    \n",
      "_________________________________________________________________\n",
      "batch_normalization_3 (Batch (None, 52, 52, 128)       512       \n",
      "_________________________________________________________________\n",
      "max_pooling2d_3 (MaxPooling2 (None, 26, 26, 128)       0         \n",
      "_________________________________________________________________\n",
      "dropout_3 (Dropout)          (None, 26, 26, 128)       0         \n",
      "_________________________________________________________________\n",
      "conv2d_4 (Conv2D)            (None, 24, 24, 128)       147584    \n",
      "_________________________________________________________________\n",
      "batch_normalization_4 (Batch (None, 24, 24, 128)       512       \n",
      "_________________________________________________________________\n",
      "max_pooling2d_4 (MaxPooling2 (None, 12, 12, 128)       0         \n",
      "_________________________________________________________________\n",
      "dropout_4 (Dropout)          (None, 12, 12, 128)       0         \n",
      "_________________________________________________________________\n",
      "flatten_1 (Flatten)          (None, 18432)             0         \n",
      "_________________________________________________________________\n",
      "dense_1 (Dense)              (None, 128)               2359424   \n",
      "_________________________________________________________________\n",
      "batch_normalization_5 (Batch (None, 128)               512       \n",
      "_________________________________________________________________\n",
      "dropout_5 (Dropout)          (None, 128)               0         \n",
      "_________________________________________________________________\n",
      "dense_2 (Dense)              (None, 128)               16512     \n",
      "_________________________________________________________________\n",
      "batch_normalization_6 (Batch (None, 128)               512       \n",
      "_________________________________________________________________\n",
      "dropout_6 (Dropout)          (None, 128)               0         \n",
      "_________________________________________________________________\n",
      "dense_3 (Dense)              (None, 1024)              132096    \n",
      "_________________________________________________________________\n",
      "batch_normalization_7 (Batch (None, 1024)              4096      \n",
      "_________________________________________________________________\n",
      "dropout_7 (Dropout)          (None, 1024)              0         \n",
      "_________________________________________________________________\n",
      "dense_4 (Dense)              (None, 1024)              1049600   \n",
      "_________________________________________________________________\n",
      "batch_normalization_8 (Batch (None, 1024)              4096      \n",
      "_________________________________________________________________\n",
      "dropout_8 (Dropout)          (None, 1024)              0         \n",
      "_________________________________________________________________\n",
      "dense_5 (Dense)              (None, 2)                 2050      \n",
      "=================================================================\n",
      "Total params: 3,886,050\n",
      "Trainable params: 3,880,610\n",
      "Non-trainable params: 5,440\n",
      "_________________________________________________________________\n"
     ]
    }
   ],
   "source": [
    "# Getting the summary of the model\n",
    "\n",
    "classifier.summary()"
   ]
  },
  {
   "cell_type": "code",
   "execution_count": 12,
   "metadata": {},
   "outputs": [],
   "source": [
    "# Compiling the CNN\n",
    "\n",
    "classifier.compile(loss='binary_crossentropy',\n",
    "                  optimizer = RMSprop(lr=0.00005),\n",
    "                  metrics=['accuracy'])"
   ]
  },
  {
   "cell_type": "code",
   "execution_count": 13,
   "metadata": {},
   "outputs": [
    {
     "name": "stdout",
     "output_type": "stream",
     "text": [
      "WARNING:tensorflow:From /Users/rohan10/Desktop/anaconda3/lib/python3.7/site-packages/tensorflow/python/ops/math_ops.py:3066: to_int32 (from tensorflow.python.ops.math_ops) is deprecated and will be removed in a future version.\n",
      "Instructions for updating:\n",
      "Use tf.cast instead.\n",
      "Epoch 1/25\n",
      "163/163 [==============================] - 936s 6s/step - loss: 1.1733 - acc: 0.5454 - val_loss: 0.8296 - val_acc: 0.6250\n",
      "Epoch 2/25\n",
      "163/163 [==============================] - 920s 6s/step - loss: 0.9946 - acc: 0.6145 - val_loss: 1.2965 - val_acc: 0.6250\n",
      "Epoch 3/25\n",
      "163/163 [==============================] - 928s 6s/step - loss: 0.8213 - acc: 0.6741 - val_loss: 1.6348 - val_acc: 0.6250\n",
      "Epoch 4/25\n",
      "163/163 [==============================] - 937s 6s/step - loss: 0.6597 - acc: 0.7456 - val_loss: 1.9716 - val_acc: 0.6330\n",
      "Epoch 5/25\n",
      "163/163 [==============================] - 933s 6s/step - loss: 0.5961 - acc: 0.7742 - val_loss: 2.0101 - val_acc: 0.6266\n",
      "Epoch 6/25\n",
      "163/163 [==============================] - 931s 6s/step - loss: 0.5202 - acc: 0.8067 - val_loss: 1.5957 - val_acc: 0.6250\n",
      "Epoch 7/25\n",
      "163/163 [==============================] - 931s 6s/step - loss: 0.4687 - acc: 0.8286 - val_loss: 1.9435 - val_acc: 0.6202\n",
      "Epoch 8/25\n",
      "163/163 [==============================] - 935s 6s/step - loss: 0.4439 - acc: 0.8405 - val_loss: 1.4702 - val_acc: 0.6234\n",
      "Epoch 9/25\n",
      "163/163 [==============================] - 932s 6s/step - loss: 0.4444 - acc: 0.8418 - val_loss: 2.1688 - val_acc: 0.6250\n",
      "Epoch 10/25\n",
      "163/163 [==============================] - 932s 6s/step - loss: 0.4169 - acc: 0.8537 - val_loss: 2.1128 - val_acc: 0.6250\n",
      "Epoch 11/25\n",
      "163/163 [==============================] - 922s 6s/step - loss: 0.4214 - acc: 0.8533 - val_loss: 1.9663 - val_acc: 0.6074\n",
      "Epoch 12/25\n",
      "163/163 [==============================] - 919s 6s/step - loss: 0.3724 - acc: 0.8606 - val_loss: 0.7582 - val_acc: 0.7260\n",
      "Epoch 13/25\n",
      "163/163 [==============================] - 919s 6s/step - loss: 0.3492 - acc: 0.8756 - val_loss: 0.7156 - val_acc: 0.6987\n",
      "Epoch 14/25\n",
      "163/163 [==============================] - 919s 6s/step - loss: 0.3419 - acc: 0.8834 - val_loss: 0.5837 - val_acc: 0.7612\n",
      "Epoch 15/25\n",
      "163/163 [==============================] - 916s 6s/step - loss: 0.3545 - acc: 0.8765 - val_loss: 0.8344 - val_acc: 0.6795\n",
      "Epoch 16/25\n",
      "163/163 [==============================] - 911s 6s/step - loss: 0.3378 - acc: 0.8800 - val_loss: 0.4805 - val_acc: 0.8205\n",
      "Epoch 17/25\n",
      "163/163 [==============================] - 915s 6s/step - loss: 0.3466 - acc: 0.8788 - val_loss: 1.2465 - val_acc: 0.6250\n",
      "Epoch 18/25\n",
      "163/163 [==============================] - 919s 6s/step - loss: 0.3165 - acc: 0.8894 - val_loss: 1.1316 - val_acc: 0.6298\n",
      "Epoch 19/25\n",
      "163/163 [==============================] - 917s 6s/step - loss: 0.3102 - acc: 0.8926 - val_loss: 1.1866 - val_acc: 0.6410\n",
      "Epoch 20/25\n",
      "163/163 [==============================] - 924s 6s/step - loss: 0.3354 - acc: 0.8907 - val_loss: 0.9479 - val_acc: 0.6538\n",
      "Epoch 21/25\n",
      "163/163 [==============================] - 926s 6s/step - loss: 0.3271 - acc: 0.8808 - val_loss: 1.0189 - val_acc: 0.6490\n",
      "Epoch 22/25\n",
      "163/163 [==============================] - 934s 6s/step - loss: 0.2795 - acc: 0.8976 - val_loss: 0.3976 - val_acc: 0.8397\n",
      "Epoch 23/25\n",
      "163/163 [==============================] - 929s 6s/step - loss: 0.2931 - acc: 0.9018 - val_loss: 1.4612 - val_acc: 0.6298\n",
      "Epoch 24/25\n",
      "163/163 [==============================] - 928s 6s/step - loss: 0.2930 - acc: 0.8992 - val_loss: 0.3531 - val_acc: 0.8734\n",
      "Epoch 25/25\n",
      "163/163 [==============================] - 931s 6s/step - loss: 0.2785 - acc: 0.8997 - val_loss: 0.3009 - val_acc: 0.8830\n"
     ]
    }
   ],
   "source": [
    "# Training the model\n",
    "\n",
    "cnn_model_test = classifier.fit_generator(aug.flow(train_cases_array, train_cases_label, batch_size = 32),\n",
    "                                          validation_data = (test_cases_array, test_cases_label),\n",
    "                                          steps_per_epoch = (5216/32),\n",
    "                                          epochs = epochs)"
   ]
  },
  {
   "cell_type": "code",
   "execution_count": 14,
   "metadata": {},
   "outputs": [
    {
     "data": {
      "text/plain": [
       "[<matplotlib.lines.Line2D at 0x1a43863940>]"
      ]
     },
     "execution_count": 14,
     "metadata": {},
     "output_type": "execute_result"
    },
    {
     "data": {
      "text/plain": [
       "[<matplotlib.lines.Line2D at 0x1a44b864a8>]"
      ]
     },
     "execution_count": 14,
     "metadata": {},
     "output_type": "execute_result"
    },
    {
     "data": {
      "text/plain": [
       "Text(0.5, 1.0, 'Training and Validation accurarcy')"
      ]
     },
     "execution_count": 14,
     "metadata": {},
     "output_type": "execute_result"
    },
    {
     "data": {
      "text/plain": [
       "<matplotlib.legend.Legend at 0x1a44c522e8>"
      ]
     },
     "execution_count": 14,
     "metadata": {},
     "output_type": "execute_result"
    },
    {
     "data": {
      "image/png": "[encoded data removed]",
      "text/plain": [
       "<Figure size 432x288 with 1 Axes>"
      ]
     },
     "metadata": {
      "needs_background": "light"
     },
     "output_type": "display_data"
    }
   ],
   "source": [
    "# Visualizing the results of the NN\n",
    "\n",
    "accuracy = cnn_model_test.history['acc']\n",
    "value_accuracy = cnn_model_test.history['val_acc']\n",
    "\n",
    "epochs = range(1, len(accuracy) + 1)\n",
    "\n",
    "#Train and Validation accuracy\n",
    "\n",
    "plt.plot(epochs, accuracy, 'b', label='Training accurarcy')\n",
    "plt.plot(epochs, value_accuracy, 'r', label='Validation accurarcy')\n",
    "plt.title('Training and Validation accurarcy')\n",
    "plt.legend()"
   ]
  },
  {
   "cell_type": "code",
   "execution_count": 19,
   "metadata": {},
   "outputs": [],
   "source": [
    "# Confusion Matrix\n",
    "\n",
    "preds = classifier.predict(test_cases_array)\n",
    "preds = np.argmax(preds, axis=-1)\n",
    "original_values = np.argmax(test_cases_label, axis=-1)\n",
    "\n",
    "cm  = confusion_matrix(original_values, preds)"
   ]
  },
  {
   "cell_type": "code",
   "execution_count": 20,
   "metadata": {},
   "outputs": [
    {
     "data": {
      "text/plain": [
       "array([[192,  42],\n",
       "       [ 31, 359]])"
      ]
     },
     "execution_count": 20,
     "metadata": {},
     "output_type": "execute_result"
    }
   ],
   "source": [
    "cm"
   ]
  },
  {
   "cell_type": "markdown",
   "metadata": {},
   "source": [
    "In the images dataset, there is a problem of class imabalance, i.e. the number of 'Pneumonia' cases is almost 3 times more than the number of 'Normal' cases. Therefore, validation accuracy is not a good enough metric to evaluate the model. Precision and Recall are some other metrics that can be utilized in order to evaulate the model performance. "
   ]
  },
  {
   "cell_type": "markdown",
   "metadata": {},
   "source": [
    "In this case, Recall is a much more important metric because we want to minimize the possibility of false negative (fn) cases. It is crucial to minimize the occurrences of false negative cases because diagnosing the patient as normal when they in fact have Pneumonia is a big deal which should be avoided. "
   ]
  },
  {
   "cell_type": "code",
   "execution_count": 21,
   "metadata": {},
   "outputs": [],
   "source": [
    "tn, fp, fn, tp = cm.ravel() \n",
    "\n",
    "precision = tp/(tp+fp)\n",
    "recall = tp/(tp+fn)"
   ]
  },
  {
   "cell_type": "code",
   "execution_count": 23,
   "metadata": {},
   "outputs": [
    {
     "data": {
      "text/plain": [
       "89.52618453865337"
      ]
     },
     "execution_count": 23,
     "metadata": {},
     "output_type": "execute_result"
    },
    {
     "data": {
      "text/plain": [
       "92.05128205128204"
      ]
     },
     "execution_count": 23,
     "metadata": {},
     "output_type": "execute_result"
    }
   ],
   "source": [
    "precision*100\n",
    "recall*100\n",
    "\n",
    "# The CNN model has achieved a precision of approximately 90% and recall of 92%"
   ]
  }
 ],
 "metadata": {
  "kernelspec": {
   "display_name": "Python 3",
   "language": "python",
   "name": "python3"
  },
  "language_info": {
   "codemirror_mode": {
    "name": "ipython",
    "version": 3
   },
   "file_extension": ".py",
   "mimetype": "text/x-python",
   "name": "python",
   "nbconvert_exporter": "python",
   "pygments_lexer": "ipython3",
   "version": "3.7.1"
  }
 },
 "nbformat": 4,
 "nbformat_minor": 2
}
